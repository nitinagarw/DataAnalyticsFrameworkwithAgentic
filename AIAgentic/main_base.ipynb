{
 "cells": [
  {
   "cell_type": "code",
   "execution_count": 11,
   "id": "40f05cdc",
   "metadata": {},
   "outputs": [],
   "source": [
    "from pymongo import MongoClient\n",
    "import pandas as pd"
   ]
  },
  {
   "cell_type": "code",
   "execution_count": 12,
   "id": "66f91cee",
   "metadata": {},
   "outputs": [],
   "source": [
    "#Program for connecting to MongoDB and retrieving data\n",
    "client = MongoClient(\"mongodb://localhost:27017/\")\n",
    "db = client[\"product\"]\n",
    "collection = db[\"Sales\"]\n",
    "\n",
    "# Example function to retrieve data\n",
    "def get_data():\n",
    "    return list(collection.find({}))\n",
    "\n",
    "my_collection = get_data()\n",
    "\n"
   ]
  },
  {
   "cell_type": "code",
   "execution_count": 13,
   "id": "dd6d547b",
   "metadata": {},
   "outputs": [
    {
     "name": "stdout",
     "output_type": "stream",
     "text": [
      "                        _id                saleDate  \\\n",
      "0  5bd761dcae323e45a93ccfe8 2015-03-23 21:06:49.506   \n",
      "1  5bd761dcae323e45a93ccfe9 2015-08-25 10:01:02.918   \n",
      "2  5bd761dcae323e45a93ccfea 2017-06-22 09:54:14.185   \n",
      "3  5bd761dcae323e45a93ccfeb 2015-02-23 09:53:59.343   \n",
      "4  5bd761dcae323e45a93ccfec 2017-12-03 18:39:48.253   \n",
      "\n",
      "                                               items storeLocation  \\\n",
      "0  [{'name': 'printer paper', 'tags': ['office', ...        Denver   \n",
      "1  [{'name': 'envelopes', 'tags': ['stationary', ...       Seattle   \n",
      "2  [{'name': 'notepad', 'tags': ['office', 'writi...        Denver   \n",
      "3  [{'name': 'binder', 'tags': ['school', 'genera...       Seattle   \n",
      "4  [{'name': 'backpack', 'tags': ['school', 'trav...        London   \n",
      "\n",
      "                                            customer  couponUsed  \\\n",
      "0  {'gender': 'M', 'age': 42, 'email': 'cauho@wit...        True   \n",
      "1  {'gender': 'M', 'age': 50, 'email': 'keecade@h...       False   \n",
      "2  {'gender': 'M', 'age': 51, 'email': 'worbiduh@...       False   \n",
      "3  {'gender': 'F', 'age': 45, 'email': 'vatires@t...       False   \n",
      "4  {'gender': 'M', 'age': 40, 'email': 'dotzu@ib....       False   \n",
      "\n",
      "  purchaseMethod  \n",
      "0         Online  \n",
      "1          Phone  \n",
      "2       In store  \n",
      "3       In store  \n",
      "4       In store  \n"
     ]
    }
   ],
   "source": [
    "my_collection_df = pd.DataFrame(my_collection)\n",
    "print(my_collection_df.head())"
   ]
  },
  {
   "cell_type": "code",
   "execution_count": 16,
   "id": "6f80c642",
   "metadata": {},
   "outputs": [
    {
     "name": "stdout",
     "output_type": "stream",
     "text": [
      "5000\n"
     ]
    }
   ],
   "source": [
    "print ( len(my_collection_df))"
   ]
  }
 ],
 "metadata": {
  "kernelspec": {
   "display_name": "AgenticPy10",
   "language": "python",
   "name": "python3"
  },
  "language_info": {
   "codemirror_mode": {
    "name": "ipython",
    "version": 3
   },
   "file_extension": ".py",
   "mimetype": "text/x-python",
   "name": "python",
   "nbconvert_exporter": "python",
   "pygments_lexer": "ipython3",
   "version": "3.10.18"
  }
 },
 "nbformat": 4,
 "nbformat_minor": 5
}
